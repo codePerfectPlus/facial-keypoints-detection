{
  "nbformat": 4,
  "nbformat_minor": 0,
  "metadata": {
    "colab": {
      "name": "facialKeyPointsDetection.ipynb",
      "provenance": [],
      "collapsed_sections": []
    },
    "kernelspec": {
      "name": "python3",
      "display_name": "Python 3"
    },
    "accelerator": "GPU"
  },
  "cells": [
    {
      "cell_type": "code",
      "metadata": {
        "id": "5FVQbd14GOlr",
        "outputId": "89649475-c483-46ba-a40e-e79c26c37570",
        "colab": {
          "base_uri": "https://localhost:8080/"
        }
      },
      "source": [
        "# this cell is only for colab to download the dataset\n",
        "!pip install -q kaggle\n",
        "!mkdir -p ~/.kaggle\n",
        "!cp kaggle.json ~/.kaggle/\n",
        "!chmod 600 /root/.kaggle/kaggle.json\n",
        "!kaggle competitions download -c facial-keypoints-detection"
      ],
      "execution_count": null,
      "outputs": [
        {
          "output_type": "stream",
          "text": [
            "Warning: Looks like you're using an outdated API Version, please consider updating (server 1.5.9 / client 1.5.4)\n",
            "Downloading IdLookupTable.csv to /content\n",
            "  0% 0.00/843k [00:00<?, ?B/s]\n",
            "100% 843k/843k [00:00<00:00, 56.8MB/s]\n",
            "Downloading training.zip to /content\n",
            " 82% 49.0M/60.1M [00:01<00:00, 39.9MB/s]\n",
            "100% 60.1M/60.1M [00:01<00:00, 56.5MB/s]\n",
            "Downloading SampleSubmission.csv to /content\n",
            "  0% 0.00/201k [00:00<?, ?B/s]\n",
            "100% 201k/201k [00:00<00:00, 68.2MB/s]\n",
            "Downloading test.zip to /content\n",
            " 31% 5.00M/16.0M [00:00<00:00, 40.3MB/s]\n",
            "100% 16.0M/16.0M [00:00<00:00, 78.3MB/s]\n"
          ],
          "name": "stdout"
        }
      ]
    },
    {
      "cell_type": "code",
      "metadata": {
        "id": "lY0CaXcJGYfg",
        "outputId": "aa9ed3e5-040b-4c53-bfee-3f2c866eb895",
        "colab": {
          "base_uri": "https://localhost:8080/"
        }
      },
      "source": [
        "# This code is only for colab to unzip the dataset in colab content directory\n",
        "!unzip training.zip -d train\n",
        "!unzip test.zip -d test"
      ],
      "execution_count": null,
      "outputs": [
        {
          "output_type": "stream",
          "text": [
            "Archive:  training.zip\n",
            "  inflating: train/training.csv      \n",
            "Archive:  test.zip\n",
            "  inflating: test/test.csv           \n"
          ],
          "name": "stdout"
        }
      ]
    },
    {
      "cell_type": "code",
      "metadata": {
        "id": "v0y4XdXr4nUD"
      },
      "source": [
        "import numpy as np\n",
        "import pandas as pd\n",
        "from matplotlib import pyplot as plt\n",
        "import seaborn as sns\n",
        "%matplotlib inline"
      ],
      "execution_count": null,
      "outputs": []
    },
    {
      "cell_type": "code",
      "metadata": {
        "id": "H2gkmW2DIvyh"
      },
      "source": [
        "from tqdm import tqdm"
      ],
      "execution_count": null,
      "outputs": []
    },
    {
      "cell_type": "code",
      "metadata": {
        "id": "CZ0EUHrjIvvW"
      },
      "source": [
        "from keras.layers.advanced_activations import LeakyReLU\n",
        "from tensorflow.keras.models import Sequential, Model\n",
        "from tensorflow.keras.layers import Activation, Convolution2D, MaxPooling2D, BatchNormalization, Flatten\n",
        "from tensorflow.keras.layers import Dense, Dropout, Conv2D, MaxPool2D, ZeroPadding2D"
      ],
      "execution_count": null,
      "outputs": []
    },
    {
      "cell_type": "code",
      "metadata": {
        "id": "ssw4bo1E5Ujb"
      },
      "source": [
        "train = pd.read_csv(\"train/training.csv\")\n",
        "test = pd.read_csv(\"test/test.csv\")\n",
        "lookup = pd.read_csv(\"IdLookupTable.csv\")\n",
        "sample = pd.read_csv(\"SampleSubmission.csv\")"
      ],
      "execution_count": null,
      "outputs": []
    },
    {
      "cell_type": "code",
      "metadata": {
        "id": "7k3Elfa47lRY",
        "outputId": "7288eb4c-0f2f-41e2-ff60-f1bdb55a9867",
        "colab": {
          "base_uri": "https://localhost:8080/"
        }
      },
      "source": [
        "train.isnull().sum()"
      ],
      "execution_count": null,
      "outputs": [
        {
          "output_type": "execute_result",
          "data": {
            "text/plain": [
              "left_eye_center_x              10\n",
              "left_eye_center_y              10\n",
              "right_eye_center_x             13\n",
              "right_eye_center_y             13\n",
              "left_eye_inner_corner_x      4778\n",
              "left_eye_inner_corner_y      4778\n",
              "left_eye_outer_corner_x      4782\n",
              "left_eye_outer_corner_y      4782\n",
              "right_eye_inner_corner_x     4781\n",
              "right_eye_inner_corner_y     4781\n",
              "right_eye_outer_corner_x     4781\n",
              "right_eye_outer_corner_y     4781\n",
              "left_eyebrow_inner_end_x     4779\n",
              "left_eyebrow_inner_end_y     4779\n",
              "left_eyebrow_outer_end_x     4824\n",
              "left_eyebrow_outer_end_y     4824\n",
              "right_eyebrow_inner_end_x    4779\n",
              "right_eyebrow_inner_end_y    4779\n",
              "right_eyebrow_outer_end_x    4813\n",
              "right_eyebrow_outer_end_y    4813\n",
              "nose_tip_x                      0\n",
              "nose_tip_y                      0\n",
              "mouth_left_corner_x          4780\n",
              "mouth_left_corner_y          4780\n",
              "mouth_right_corner_x         4779\n",
              "mouth_right_corner_y         4779\n",
              "mouth_center_top_lip_x       4774\n",
              "mouth_center_top_lip_y       4774\n",
              "mouth_center_bottom_lip_x      33\n",
              "mouth_center_bottom_lip_y      33\n",
              "Image                           0\n",
              "dtype: int64"
            ]
          },
          "metadata": {
            "tags": []
          },
          "execution_count": 8
        }
      ]
    },
    {
      "cell_type": "code",
      "metadata": {
        "id": "sOOZqn5-H3-a"
      },
      "source": [
        "train.fillna(method='ffill', inplace=True)"
      ],
      "execution_count": null,
      "outputs": []
    },
    {
      "cell_type": "code",
      "metadata": {
        "id": "Y4JXPng-I7cT"
      },
      "source": [
        "imag = []\n",
        "for i in range(0, 7049):\n",
        "    img = train[\"Image\"][i].split(' ')\n",
        "    img = ['0' if x == '' else x for x in img]\n",
        "    imag.append(img)"
      ],
      "execution_count": null,
      "outputs": []
    },
    {
      "cell_type": "code",
      "metadata": {
        "id": "NzSqfokNPI1t"
      },
      "source": [
        "image_list = np.array(imag, dtype=\"float\")\n",
        "X_train = image_list.reshape(-1, 96, 96, 1)"
      ],
      "execution_count": null,
      "outputs": []
    },
    {
      "cell_type": "code",
      "metadata": {
        "id": "s3EnPmJCPmy4",
        "outputId": "c824cdb1-445b-4d4f-fe2c-e4cb4cfa947c",
        "colab": {
          "base_uri": "https://localhost:8080/",
          "height": 268
        }
      },
      "source": [
        "plt.imshow(X_train[5].reshape(96,96),cmap='gray')\n",
        "plt.show()"
      ],
      "execution_count": null,
      "outputs": [
        {
          "output_type": "display_data",
          "data": {
            "image/png": "[encoded data removed]",
            "text/plain": [
              "<Figure size 432x288 with 1 Axes>"
            ]
          },
          "metadata": {
            "tags": [],
            "needs_background": "light"
          }
        }
      ]
    },
    {
      "cell_type": "code",
      "metadata": {
        "id": "JYMSpk2fP3jg"
      },
      "source": [
        "training = train.drop('Image',axis = 1)\n",
        "\n",
        "y_train = []\n",
        "for i in range(0,7049):\n",
        "    y = training.iloc[i,:]\n",
        "\n",
        "    y_train.append(y)\n",
        "y_train = np.array(y_train,dtype = 'float')"
      ],
      "execution_count": null,
      "outputs": []
    },
    {
      "cell_type": "code",
      "metadata": {
        "id": "w_n3KBBbXB8W",
        "outputId": "ac46dc9c-6da7-4d1d-99d8-2031ef07862d",
        "colab": {
          "base_uri": "https://localhost:8080/",
          "height": 224
        }
      },
      "source": [
        "y_train = pd.DataFrame(y_train)\n",
        "y_train.head()"
      ],
      "execution_count": null,
      "outputs": [
        {
          "output_type": "execute_result",
          "data": {
            "text/html": [
              "<div>\n",
              "<style scoped>\n",
              "    .dataframe tbody tr th:only-of-type {\n",
              "        vertical-align: middle;\n",
              "    }\n",
              "\n",
              "    .dataframe tbody tr th {\n",
              "        vertical-align: top;\n",
              "    }\n",
              "\n",
              "    .dataframe thead th {\n",
              "        text-align: right;\n",
              "    }\n",
              "</style>\n",
              "<table border=\"1\" class=\"dataframe\">\n",
              "  <thead>\n",
              "    <tr style=\"text-align: right;\">\n",
              "      <th></th>\n",
              "      <th>0</th>\n",
              "      <th>1</th>\n",
              "      <th>2</th>\n",
              "      <th>3</th>\n",
              "      <th>4</th>\n",
              "      <th>5</th>\n",
              "      <th>6</th>\n",
              "      <th>7</th>\n",
              "      <th>8</th>\n",
              "      <th>9</th>\n",
              "      <th>10</th>\n",
              "      <th>11</th>\n",
              "      <th>12</th>\n",
              "      <th>13</th>\n",
              "      <th>14</th>\n",
              "      <th>15</th>\n",
              "      <th>16</th>\n",
              "      <th>17</th>\n",
              "      <th>18</th>\n",
              "      <th>19</th>\n",
              "      <th>20</th>\n",
              "      <th>21</th>\n",
              "      <th>22</th>\n",
              "      <th>23</th>\n",
              "      <th>24</th>\n",
              "      <th>25</th>\n",
              "      <th>26</th>\n",
              "      <th>27</th>\n",
              "      <th>28</th>\n",
              "      <th>29</th>\n",
              "    </tr>\n",
              "  </thead>\n",
              "  <tbody>\n",
              "    <tr>\n",
              "      <th>0</th>\n",
              "      <td>66.033564</td>\n",
              "      <td>39.002274</td>\n",
              "      <td>30.227008</td>\n",
              "      <td>36.421678</td>\n",
              "      <td>59.582075</td>\n",
              "      <td>39.647423</td>\n",
              "      <td>73.130346</td>\n",
              "      <td>39.969997</td>\n",
              "      <td>36.356571</td>\n",
              "      <td>37.389402</td>\n",
              "      <td>23.452872</td>\n",
              "      <td>37.389402</td>\n",
              "      <td>56.953263</td>\n",
              "      <td>29.033648</td>\n",
              "      <td>80.227128</td>\n",
              "      <td>32.228138</td>\n",
              "      <td>40.227609</td>\n",
              "      <td>29.002322</td>\n",
              "      <td>16.356379</td>\n",
              "      <td>29.647471</td>\n",
              "      <td>44.420571</td>\n",
              "      <td>57.066803</td>\n",
              "      <td>61.195308</td>\n",
              "      <td>79.970165</td>\n",
              "      <td>28.614496</td>\n",
              "      <td>77.388992</td>\n",
              "      <td>43.312602</td>\n",
              "      <td>72.935459</td>\n",
              "      <td>43.130707</td>\n",
              "      <td>84.485774</td>\n",
              "    </tr>\n",
              "    <tr>\n",
              "      <th>1</th>\n",
              "      <td>64.332936</td>\n",
              "      <td>34.970077</td>\n",
              "      <td>29.949277</td>\n",
              "      <td>33.448715</td>\n",
              "      <td>58.856170</td>\n",
              "      <td>35.274349</td>\n",
              "      <td>70.722723</td>\n",
              "      <td>36.187166</td>\n",
              "      <td>36.034723</td>\n",
              "      <td>34.361532</td>\n",
              "      <td>24.472511</td>\n",
              "      <td>33.144443</td>\n",
              "      <td>53.987404</td>\n",
              "      <td>28.275949</td>\n",
              "      <td>78.634213</td>\n",
              "      <td>30.405923</td>\n",
              "      <td>42.728851</td>\n",
              "      <td>26.146043</td>\n",
              "      <td>16.865362</td>\n",
              "      <td>27.058860</td>\n",
              "      <td>48.206298</td>\n",
              "      <td>55.660936</td>\n",
              "      <td>56.421447</td>\n",
              "      <td>76.352000</td>\n",
              "      <td>35.122383</td>\n",
              "      <td>76.047660</td>\n",
              "      <td>46.684596</td>\n",
              "      <td>70.266553</td>\n",
              "      <td>45.467915</td>\n",
              "      <td>85.480170</td>\n",
              "    </tr>\n",
              "    <tr>\n",
              "      <th>2</th>\n",
              "      <td>65.057053</td>\n",
              "      <td>34.909642</td>\n",
              "      <td>30.903789</td>\n",
              "      <td>34.909642</td>\n",
              "      <td>59.412000</td>\n",
              "      <td>36.320968</td>\n",
              "      <td>70.984421</td>\n",
              "      <td>36.320968</td>\n",
              "      <td>37.678105</td>\n",
              "      <td>36.320968</td>\n",
              "      <td>24.976421</td>\n",
              "      <td>36.603221</td>\n",
              "      <td>55.742526</td>\n",
              "      <td>27.570947</td>\n",
              "      <td>78.887368</td>\n",
              "      <td>32.651621</td>\n",
              "      <td>42.193895</td>\n",
              "      <td>28.135453</td>\n",
              "      <td>16.791158</td>\n",
              "      <td>32.087116</td>\n",
              "      <td>47.557263</td>\n",
              "      <td>53.538947</td>\n",
              "      <td>60.822947</td>\n",
              "      <td>73.014316</td>\n",
              "      <td>33.726316</td>\n",
              "      <td>72.732000</td>\n",
              "      <td>47.274947</td>\n",
              "      <td>70.191789</td>\n",
              "      <td>47.274947</td>\n",
              "      <td>78.659368</td>\n",
              "    </tr>\n",
              "    <tr>\n",
              "      <th>3</th>\n",
              "      <td>65.225739</td>\n",
              "      <td>37.261774</td>\n",
              "      <td>32.023096</td>\n",
              "      <td>37.261774</td>\n",
              "      <td>60.003339</td>\n",
              "      <td>39.127179</td>\n",
              "      <td>72.314713</td>\n",
              "      <td>38.380967</td>\n",
              "      <td>37.618643</td>\n",
              "      <td>38.754115</td>\n",
              "      <td>25.307270</td>\n",
              "      <td>38.007903</td>\n",
              "      <td>56.433809</td>\n",
              "      <td>30.929864</td>\n",
              "      <td>77.910261</td>\n",
              "      <td>31.665725</td>\n",
              "      <td>41.671513</td>\n",
              "      <td>31.049990</td>\n",
              "      <td>20.458017</td>\n",
              "      <td>29.909343</td>\n",
              "      <td>51.885078</td>\n",
              "      <td>54.166539</td>\n",
              "      <td>65.598887</td>\n",
              "      <td>72.703722</td>\n",
              "      <td>37.245496</td>\n",
              "      <td>74.195478</td>\n",
              "      <td>50.303165</td>\n",
              "      <td>70.091687</td>\n",
              "      <td>51.561183</td>\n",
              "      <td>78.268383</td>\n",
              "    </tr>\n",
              "    <tr>\n",
              "      <th>4</th>\n",
              "      <td>66.725301</td>\n",
              "      <td>39.621261</td>\n",
              "      <td>32.244810</td>\n",
              "      <td>38.042032</td>\n",
              "      <td>58.565890</td>\n",
              "      <td>39.621261</td>\n",
              "      <td>72.515926</td>\n",
              "      <td>39.884466</td>\n",
              "      <td>36.982380</td>\n",
              "      <td>39.094852</td>\n",
              "      <td>22.506110</td>\n",
              "      <td>38.305237</td>\n",
              "      <td>57.249571</td>\n",
              "      <td>30.672177</td>\n",
              "      <td>77.762945</td>\n",
              "      <td>31.737247</td>\n",
              "      <td>38.035436</td>\n",
              "      <td>30.935382</td>\n",
              "      <td>15.925870</td>\n",
              "      <td>30.672177</td>\n",
              "      <td>43.299534</td>\n",
              "      <td>64.889521</td>\n",
              "      <td>60.671411</td>\n",
              "      <td>77.523239</td>\n",
              "      <td>31.191755</td>\n",
              "      <td>76.997301</td>\n",
              "      <td>44.962748</td>\n",
              "      <td>73.707387</td>\n",
              "      <td>44.227141</td>\n",
              "      <td>86.871166</td>\n",
              "    </tr>\n",
              "  </tbody>\n",
              "</table>\n",
              "</div>"
            ],
            "text/plain": [
              "          0          1          2   ...         27         28         29\n",
              "0  66.033564  39.002274  30.227008  ...  72.935459  43.130707  84.485774\n",
              "1  64.332936  34.970077  29.949277  ...  70.266553  45.467915  85.480170\n",
              "2  65.057053  34.909642  30.903789  ...  70.191789  47.274947  78.659368\n",
              "3  65.225739  37.261774  32.023096  ...  70.091687  51.561183  78.268383\n",
              "4  66.725301  39.621261  32.244810  ...  73.707387  44.227141  86.871166\n",
              "\n",
              "[5 rows x 30 columns]"
            ]
          },
          "metadata": {
            "tags": []
          },
          "execution_count": 16
        }
      ]
    },
    {
      "cell_type": "code",
      "metadata": {
        "id": "kS7zKDZfQyXe"
      },
      "source": [
        "model = Sequential()\n",
        "\n",
        "# layer set 1\n",
        "model.add(Convolution2D(32, (3,3), padding='same', use_bias=False, input_shape=(96,96,1)))\n",
        "model.add(LeakyReLU(alpha = 0.1))\n",
        "model.add(BatchNormalization())\n",
        "\n",
        "model.add(Convolution2D(32, (3,3), padding='same', use_bias=False))\n",
        "model.add(LeakyReLU(alpha = 0.1))\n",
        "model.add(BatchNormalization())\n",
        "model.add(MaxPool2D(pool_size=(2, 2)))\n",
        "# result 1 image is converted into 48 X 48 X 32 = 73K \n",
        "\n",
        "# layer set 2\n",
        "model.add(Convolution2D(64, (3,3), padding='same', use_bias=False))\n",
        "model.add(LeakyReLU(alpha = 0.1))\n",
        "model.add(BatchNormalization())\n",
        "\n",
        "model.add(Convolution2D(64, (3,3), padding='same', use_bias=False))\n",
        "model.add(LeakyReLU(alpha = 0.1))\n",
        "model.add(BatchNormalization())\n",
        "model.add(MaxPool2D(pool_size=(2, 2)))\n",
        "# outputs 24 X 24 X 64 = 36K\n",
        "\n",
        "# layer set 3\n",
        "model.add(Convolution2D(96, (3,3), padding='same', use_bias=False))\n",
        "model.add(LeakyReLU(alpha = 0.1))\n",
        "model.add(BatchNormalization())\n",
        "\n",
        "model.add(Convolution2D(96, (3,3), padding='same', use_bias=False))\n",
        "model.add(LeakyReLU(alpha = 0.1))\n",
        "model.add(BatchNormalization())\n",
        "model.add(MaxPool2D(pool_size=(2, 2)))\n",
        "# outputs 12 X 12 X 96 = 14K\n",
        "\n",
        "#layer set 4\n",
        "model.add(Convolution2D(128, (3,3),padding='same', use_bias=False))\n",
        "model.add(LeakyReLU(alpha = 0.1))\n",
        "model.add(BatchNormalization())\n",
        "\n",
        "model.add(Convolution2D(128, (3,3),padding='same', use_bias=False))\n",
        "model.add(LeakyReLU(alpha = 0.1))\n",
        "model.add(BatchNormalization())\n",
        "model.add(MaxPool2D(pool_size=(2, 2)))\n",
        "# outputs 6 X 6 X 128 = 4K\n",
        "\n",
        "#layer set 5\n",
        "model.add(Convolution2D(256, (3,3),padding='same',use_bias=False))\n",
        "model.add(LeakyReLU(alpha = 0.1))\n",
        "model.add(BatchNormalization())\n",
        "\n",
        "model.add(Convolution2D(256, (3,3),padding='same',use_bias=False))\n",
        "model.add(LeakyReLU(alpha = 0.1))\n",
        "model.add(BatchNormalization())\n",
        "model.add(MaxPool2D(pool_size=(2, 2)))\n",
        "# outputs 3 X 3 X 256 = 2K\n",
        "\n",
        "# different set \n",
        "model.add(Convolution2D(512, (3,3), padding='same', use_bias=False))\n",
        "model.add(LeakyReLU(alpha = 0.1))\n",
        "model.add(BatchNormalization())\n",
        "\n",
        "model.add(Convolution2D(512, (3,3), padding='same', use_bias=False))\n",
        "model.add(LeakyReLU(alpha = 0.1))\n",
        "model.add(BatchNormalization())\n",
        "# outputs 3 X 3 X 512 = 4K\n",
        "\n",
        "# Normal layer\n",
        "model.add(Flatten())\n",
        "model.add(Dense(512,activation='relu'))\n",
        "model.add(Dropout(0.1))\n",
        "model.add(Dense(30))"
      ],
      "execution_count": null,
      "outputs": []
    },
    {
      "cell_type": "code",
      "metadata": {
        "id": "TNMa2rUAVq9u",
        "outputId": "75827bb6-8223-4892-c9a8-de6b2b12310e",
        "colab": {
          "base_uri": "https://localhost:8080/"
        }
      },
      "source": [
        "model.summary()"
      ],
      "execution_count": null,
      "outputs": [
        {
          "output_type": "stream",
          "text": [
            "Model: \"sequential\"\n",
            "_________________________________________________________________\n",
            "Layer (type)                 Output Shape              Param #   \n",
            "=================================================================\n",
            "conv2d (Conv2D)              (None, 96, 96, 32)        288       \n",
            "_________________________________________________________________\n",
            "leaky_re_lu (LeakyReLU)      (None, 96, 96, 32)        0         \n",
            "_________________________________________________________________\n",
            "batch_normalization (BatchNo (None, 96, 96, 32)        128       \n",
            "_________________________________________________________________\n",
            "conv2d_1 (Conv2D)            (None, 96, 96, 32)        9216      \n",
            "_________________________________________________________________\n",
            "leaky_re_lu_1 (LeakyReLU)    (None, 96, 96, 32)        0         \n",
            "_________________________________________________________________\n",
            "batch_normalization_1 (Batch (None, 96, 96, 32)        128       \n",
            "_________________________________________________________________\n",
            "max_pooling2d (MaxPooling2D) (None, 48, 48, 32)        0         \n",
            "_________________________________________________________________\n",
            "conv2d_2 (Conv2D)            (None, 48, 48, 64)        18432     \n",
            "_________________________________________________________________\n",
            "leaky_re_lu_2 (LeakyReLU)    (None, 48, 48, 64)        0         \n",
            "_________________________________________________________________\n",
            "batch_normalization_2 (Batch (None, 48, 48, 64)        256       \n",
            "_________________________________________________________________\n",
            "conv2d_3 (Conv2D)            (None, 48, 48, 64)        36864     \n",
            "_________________________________________________________________\n",
            "leaky_re_lu_3 (LeakyReLU)    (None, 48, 48, 64)        0         \n",
            "_________________________________________________________________\n",
            "batch_normalization_3 (Batch (None, 48, 48, 64)        256       \n",
            "_________________________________________________________________\n",
            "max_pooling2d_1 (MaxPooling2 (None, 24, 24, 64)        0         \n",
            "_________________________________________________________________\n",
            "conv2d_4 (Conv2D)            (None, 24, 24, 96)        55296     \n",
            "_________________________________________________________________\n",
            "leaky_re_lu_4 (LeakyReLU)    (None, 24, 24, 96)        0         \n",
            "_________________________________________________________________\n",
            "batch_normalization_4 (Batch (None, 24, 24, 96)        384       \n",
            "_________________________________________________________________\n",
            "conv2d_5 (Conv2D)            (None, 24, 24, 96)        82944     \n",
            "_________________________________________________________________\n",
            "leaky_re_lu_5 (LeakyReLU)    (None, 24, 24, 96)        0         \n",
            "_________________________________________________________________\n",
            "batch_normalization_5 (Batch (None, 24, 24, 96)        384       \n",
            "_________________________________________________________________\n",
            "max_pooling2d_2 (MaxPooling2 (None, 12, 12, 96)        0         \n",
            "_________________________________________________________________\n",
            "conv2d_6 (Conv2D)            (None, 12, 12, 128)       110592    \n",
            "_________________________________________________________________\n",
            "leaky_re_lu_6 (LeakyReLU)    (None, 12, 12, 128)       0         \n",
            "_________________________________________________________________\n",
            "batch_normalization_6 (Batch (None, 12, 12, 128)       512       \n",
            "_________________________________________________________________\n",
            "conv2d_7 (Conv2D)            (None, 12, 12, 128)       147456    \n",
            "_________________________________________________________________\n",
            "leaky_re_lu_7 (LeakyReLU)    (None, 12, 12, 128)       0         \n",
            "_________________________________________________________________\n",
            "batch_normalization_7 (Batch (None, 12, 12, 128)       512       \n",
            "_________________________________________________________________\n",
            "max_pooling2d_3 (MaxPooling2 (None, 6, 6, 128)         0         \n",
            "_________________________________________________________________\n",
            "conv2d_8 (Conv2D)            (None, 6, 6, 256)         294912    \n",
            "_________________________________________________________________\n",
            "leaky_re_lu_8 (LeakyReLU)    (None, 6, 6, 256)         0         \n",
            "_________________________________________________________________\n",
            "batch_normalization_8 (Batch (None, 6, 6, 256)         1024      \n",
            "_________________________________________________________________\n",
            "conv2d_9 (Conv2D)            (None, 6, 6, 256)         589824    \n",
            "_________________________________________________________________\n",
            "leaky_re_lu_9 (LeakyReLU)    (None, 6, 6, 256)         0         \n",
            "_________________________________________________________________\n",
            "batch_normalization_9 (Batch (None, 6, 6, 256)         1024      \n",
            "_________________________________________________________________\n",
            "max_pooling2d_4 (MaxPooling2 (None, 3, 3, 256)         0         \n",
            "_________________________________________________________________\n",
            "conv2d_10 (Conv2D)           (None, 3, 3, 512)         1179648   \n",
            "_________________________________________________________________\n",
            "leaky_re_lu_10 (LeakyReLU)   (None, 3, 3, 512)         0         \n",
            "_________________________________________________________________\n",
            "batch_normalization_10 (Batc (None, 3, 3, 512)         2048      \n",
            "_________________________________________________________________\n",
            "conv2d_11 (Conv2D)           (None, 3, 3, 512)         2359296   \n",
            "_________________________________________________________________\n",
            "leaky_re_lu_11 (LeakyReLU)   (None, 3, 3, 512)         0         \n",
            "_________________________________________________________________\n",
            "batch_normalization_11 (Batc (None, 3, 3, 512)         2048      \n",
            "_________________________________________________________________\n",
            "flatten (Flatten)            (None, 4608)              0         \n",
            "_________________________________________________________________\n",
            "dense (Dense)                (None, 512)               2359808   \n",
            "_________________________________________________________________\n",
            "dropout (Dropout)            (None, 512)               0         \n",
            "_________________________________________________________________\n",
            "dense_1 (Dense)              (None, 30)                15390     \n",
            "=================================================================\n",
            "Total params: 7,268,670\n",
            "Trainable params: 7,264,318\n",
            "Non-trainable params: 4,352\n",
            "_________________________________________________________________\n"
          ],
          "name": "stdout"
        }
      ]
    },
    {
      "cell_type": "code",
      "metadata": {
        "id": "W8E2q0XBWArZ"
      },
      "source": [
        "model.compile(optimizer='adam',\n",
        "              loss='mean_squared_error',\n",
        "              metrics=['mae']\n",
        "              )"
      ],
      "execution_count": null,
      "outputs": []
    },
    {
      "cell_type": "code",
      "metadata": {
        "id": "yHuyhXMBWizq",
        "outputId": "ea7bef57-d0e2-44d1-a5dc-ae3d76e1d880",
        "colab": {
          "base_uri": "https://localhost:8080/"
        }
      },
      "source": [
        "model.fit(X_train, y_train, epochs=50, batch_size=256, validation_split=0.2)"
      ],
      "execution_count": null,
      "outputs": [
        {
          "output_type": "stream",
          "text": [
            "Epoch 1/50\n",
            " 2/23 [=>............................] - ETA: 2s - loss: 2302.7283 - mae: 44.5482WARNING:tensorflow:Callbacks method `on_train_batch_end` is slow compared to the batch time (batch time: 0.0933s vs `on_train_batch_end` time: 0.1654s). Check your callbacks.\n",
            "23/23 [==============================] - 7s 301ms/step - loss: 335.2602 - mae: 11.8243 - val_loss: 232.5353 - val_mae: 13.8765\n",
            "Epoch 2/50\n",
            "23/23 [==============================] - 6s 262ms/step - loss: 32.9095 - mae: 4.4633 - val_loss: 27.3105 - val_mae: 4.3038\n",
            "Epoch 3/50\n",
            "23/23 [==============================] - 6s 263ms/step - loss: 26.4669 - mae: 3.9768 - val_loss: 22.0479 - val_mae: 3.7927\n",
            "Epoch 4/50\n",
            "23/23 [==============================] - 6s 264ms/step - loss: 24.3570 - mae: 3.7981 - val_loss: 18.4582 - val_mae: 3.5772\n",
            "Epoch 5/50\n",
            "23/23 [==============================] - 6s 265ms/step - loss: 22.4757 - mae: 3.6452 - val_loss: 28.4977 - val_mae: 4.6107\n",
            "Epoch 6/50\n",
            "23/23 [==============================] - 6s 266ms/step - loss: 20.3168 - mae: 3.4475 - val_loss: 41.1766 - val_mae: 5.6086\n",
            "Epoch 7/50\n",
            "23/23 [==============================] - 6s 267ms/step - loss: 18.7844 - mae: 3.3111 - val_loss: 29.1851 - val_mae: 4.8362\n",
            "Epoch 8/50\n",
            "23/23 [==============================] - 6s 268ms/step - loss: 17.8963 - mae: 3.2183 - val_loss: 22.9636 - val_mae: 3.9895\n",
            "Epoch 9/50\n",
            "23/23 [==============================] - 6s 268ms/step - loss: 17.0765 - mae: 3.1366 - val_loss: 31.4460 - val_mae: 4.8444\n",
            "Epoch 10/50\n",
            "23/23 [==============================] - 6s 269ms/step - loss: 15.8602 - mae: 3.0179 - val_loss: 17.9447 - val_mae: 3.4553\n",
            "Epoch 11/50\n",
            "23/23 [==============================] - 6s 269ms/step - loss: 15.0502 - mae: 2.9347 - val_loss: 28.5967 - val_mae: 4.6276\n",
            "Epoch 12/50\n",
            "23/23 [==============================] - 6s 269ms/step - loss: 15.0976 - mae: 2.9501 - val_loss: 11.5494 - val_mae: 2.6905\n",
            "Epoch 13/50\n",
            "23/23 [==============================] - 6s 270ms/step - loss: 13.3806 - mae: 2.7631 - val_loss: 18.9920 - val_mae: 3.5849\n",
            "Epoch 14/50\n",
            "23/23 [==============================] - 6s 270ms/step - loss: 12.8492 - mae: 2.7132 - val_loss: 19.6198 - val_mae: 3.7408\n",
            "Epoch 15/50\n",
            "23/23 [==============================] - 6s 272ms/step - loss: 12.3757 - mae: 2.6593 - val_loss: 16.5537 - val_mae: 3.3158\n",
            "Epoch 16/50\n",
            "23/23 [==============================] - 6s 272ms/step - loss: 12.5177 - mae: 2.6809 - val_loss: 9.4020 - val_mae: 2.2540\n",
            "Epoch 17/50\n",
            "23/23 [==============================] - 6s 273ms/step - loss: 11.4433 - mae: 2.5572 - val_loss: 5.6332 - val_mae: 1.5765\n",
            "Epoch 18/50\n",
            "23/23 [==============================] - 6s 274ms/step - loss: 12.5592 - mae: 2.6880 - val_loss: 37.2735 - val_mae: 5.2934\n",
            "Epoch 19/50\n",
            "23/23 [==============================] - 6s 274ms/step - loss: 14.8810 - mae: 2.9441 - val_loss: 7.8556 - val_mae: 2.2353\n",
            "Epoch 20/50\n",
            "23/23 [==============================] - 6s 275ms/step - loss: 11.2288 - mae: 2.5369 - val_loss: 4.0673 - val_mae: 1.3183\n",
            "Epoch 21/50\n",
            "23/23 [==============================] - 6s 276ms/step - loss: 10.7408 - mae: 2.4778 - val_loss: 10.5830 - val_mae: 2.4805\n",
            "Epoch 22/50\n",
            "23/23 [==============================] - 6s 276ms/step - loss: 11.5942 - mae: 2.5999 - val_loss: 3.3221 - val_mae: 1.0624\n",
            "Epoch 23/50\n",
            "23/23 [==============================] - 6s 277ms/step - loss: 9.3043 - mae: 2.3087 - val_loss: 3.6176 - val_mae: 1.2461\n",
            "Epoch 24/50\n",
            "23/23 [==============================] - 6s 277ms/step - loss: 9.2687 - mae: 2.3003 - val_loss: 5.0080 - val_mae: 1.3131\n",
            "Epoch 25/50\n",
            "23/23 [==============================] - 6s 277ms/step - loss: 8.7522 - mae: 2.2332 - val_loss: 14.0510 - val_mae: 2.8556\n",
            "Epoch 26/50\n",
            "23/23 [==============================] - 6s 278ms/step - loss: 10.7691 - mae: 2.4696 - val_loss: 5.1636 - val_mae: 1.5080\n",
            "Epoch 27/50\n",
            "23/23 [==============================] - 6s 278ms/step - loss: 9.0525 - mae: 2.2633 - val_loss: 6.3057 - val_mae: 1.6878\n",
            "Epoch 28/50\n",
            "23/23 [==============================] - 6s 279ms/step - loss: 9.5030 - mae: 2.3238 - val_loss: 4.3945 - val_mae: 1.2800\n",
            "Epoch 29/50\n",
            "23/23 [==============================] - 6s 279ms/step - loss: 8.2938 - mae: 2.1673 - val_loss: 3.9085 - val_mae: 1.2583\n",
            "Epoch 30/50\n",
            "23/23 [==============================] - 6s 279ms/step - loss: 9.1041 - mae: 2.2715 - val_loss: 8.3558 - val_mae: 2.2637\n",
            "Epoch 31/50\n",
            "23/23 [==============================] - 6s 280ms/step - loss: 9.4283 - mae: 2.3370 - val_loss: 3.9076 - val_mae: 1.3193\n",
            "Epoch 32/50\n",
            "23/23 [==============================] - 6s 280ms/step - loss: 8.0097 - mae: 2.1402 - val_loss: 3.4161 - val_mae: 1.0226\n",
            "Epoch 33/50\n",
            "23/23 [==============================] - 6s 281ms/step - loss: 7.7819 - mae: 2.1131 - val_loss: 7.8132 - val_mae: 2.2786\n",
            "Epoch 34/50\n",
            "23/23 [==============================] - 6s 282ms/step - loss: 8.1989 - mae: 2.1825 - val_loss: 3.3774 - val_mae: 1.2448\n",
            "Epoch 35/50\n",
            "23/23 [==============================] - 6s 281ms/step - loss: 7.7912 - mae: 2.1316 - val_loss: 3.2254 - val_mae: 1.0884\n",
            "Epoch 36/50\n",
            "23/23 [==============================] - 6s 282ms/step - loss: 8.0083 - mae: 2.1470 - val_loss: 10.6686 - val_mae: 2.4594\n",
            "Epoch 37/50\n",
            "23/23 [==============================] - 6s 282ms/step - loss: 7.3083 - mae: 2.0437 - val_loss: 5.1647 - val_mae: 1.6687\n",
            "Epoch 38/50\n",
            "23/23 [==============================] - 6s 282ms/step - loss: 6.7989 - mae: 1.9695 - val_loss: 75.4731 - val_mae: 8.0296\n",
            "Epoch 39/50\n",
            "23/23 [==============================] - 7s 283ms/step - loss: 20.1318 - mae: 3.3857 - val_loss: 95.9445 - val_mae: 8.6275\n",
            "Epoch 40/50\n",
            "23/23 [==============================] - 7s 283ms/step - loss: 7.9588 - mae: 2.1201 - val_loss: 20.7896 - val_mae: 3.9509\n",
            "Epoch 41/50\n",
            "23/23 [==============================] - 7s 284ms/step - loss: 6.6530 - mae: 1.9505 - val_loss: 8.2630 - val_mae: 2.4265\n",
            "Epoch 42/50\n",
            "23/23 [==============================] - 7s 284ms/step - loss: 6.3310 - mae: 1.9122 - val_loss: 2.6674 - val_mae: 0.9043\n",
            "Epoch 43/50\n",
            "23/23 [==============================] - 7s 284ms/step - loss: 6.8543 - mae: 1.9953 - val_loss: 3.2752 - val_mae: 1.2350\n",
            "Epoch 44/50\n",
            "23/23 [==============================] - 7s 284ms/step - loss: 6.0908 - mae: 1.8734 - val_loss: 3.9905 - val_mae: 1.3362\n",
            "Epoch 45/50\n",
            "23/23 [==============================] - 7s 284ms/step - loss: 6.6030 - mae: 1.9423 - val_loss: 3.7335 - val_mae: 1.2070\n",
            "Epoch 46/50\n",
            "23/23 [==============================] - 7s 284ms/step - loss: 8.6634 - mae: 2.1568 - val_loss: 9.1969 - val_mae: 2.3247\n",
            "Epoch 47/50\n",
            "23/23 [==============================] - 7s 285ms/step - loss: 7.9152 - mae: 2.1199 - val_loss: 3.5318 - val_mae: 1.1507\n",
            "Epoch 48/50\n",
            "23/23 [==============================] - 7s 285ms/step - loss: 6.3746 - mae: 1.8966 - val_loss: 5.2928 - val_mae: 1.5592\n",
            "Epoch 49/50\n",
            "23/23 [==============================] - 7s 286ms/step - loss: 6.0449 - mae: 1.8574 - val_loss: 8.6545 - val_mae: 2.4603\n",
            "Epoch 50/50\n",
            "23/23 [==============================] - 7s 285ms/step - loss: 6.4912 - mae: 1.9257 - val_loss: 3.0630 - val_mae: 1.0075\n"
          ],
          "name": "stdout"
        },
        {
          "output_type": "execute_result",
          "data": {
            "text/plain": [
              "<tensorflow.python.keras.callbacks.History at 0x7fae6ccc0ef0>"
            ]
          },
          "metadata": {
            "tags": []
          },
          "execution_count": 21
        }
      ]
    },
    {
      "cell_type": "code",
      "metadata": {
        "id": "BuzioBNCW3-Q"
      },
      "source": [
        "model.save('facialKeyPointsDetection.h5')"
      ],
      "execution_count": null,
      "outputs": []
    },
    {
      "cell_type": "code",
      "metadata": {
        "id": "uMyFNScjYbNP"
      },
      "source": [
        "#preparing test data\n",
        "timag = []\n",
        "for i in range(0,1783):\n",
        "    timg = test['Image'][i].split(' ')\n",
        "    timg = ['0' if x == '' else x for x in timg]\n",
        "    \n",
        "    timag.append(timg)"
      ],
      "execution_count": null,
      "outputs": []
    },
    {
      "cell_type": "code",
      "metadata": {
        "id": "XuKb6AzRY2pY"
      },
      "source": [
        "timage_list = np.array(timag,dtype = 'float')\n",
        "X_test = timage_list.reshape(-1,96,96,1)"
      ],
      "execution_count": null,
      "outputs": []
    },
    {
      "cell_type": "code",
      "metadata": {
        "id": "0g-YN7IzY5z2",
        "outputId": "033bb46c-4e99-489a-85b4-dcde2df15e05",
        "colab": {
          "base_uri": "https://localhost:8080/",
          "height": 268
        }
      },
      "source": [
        "plt.imshow(X_test[0].reshape(96,96),cmap = 'gray')\n",
        "plt.show()"
      ],
      "execution_count": null,
      "outputs": [
        {
          "output_type": "display_data",
          "data": {
            "image/png": "[encoded data removed]",
            "text/plain": [
              "<Figure size 432x288 with 1 Axes>"
            ]
          },
          "metadata": {
            "tags": [],
            "needs_background": "light"
          }
        }
      ]
    },
    {
      "cell_type": "code",
      "metadata": {
        "id": "qO8UfE-qY94o"
      },
      "source": [
        "pred = model.predict(X_test)"
      ],
      "execution_count": null,
      "outputs": []
    },
    {
      "cell_type": "code",
      "metadata": {
        "id": "N5ZXdwegZAAm",
        "outputId": "b32e932d-f2c1-4004-e748-f9c1ee002135",
        "colab": {
          "base_uri": "https://localhost:8080/"
        }
      },
      "source": [
        "pred[0]"
      ],
      "execution_count": null,
      "outputs": [
        {
          "output_type": "execute_result",
          "data": {
            "text/plain": [
              "array([65.257225, 36.13281 , 27.524588, 36.964016, 59.330997, 36.96289 ,\n",
              "       72.05108 , 37.86491 , 34.84623 , 37.05759 , 22.176664, 38.450047,\n",
              "       57.559273, 26.537397, 79.54184 , 29.397303, 39.52047 , 25.7828  ,\n",
              "       15.058166, 28.918509, 50.3177  , 51.63561 , 61.569534, 75.13347 ,\n",
              "       33.377007, 75.27023 , 47.984516, 67.72817 , 48.00653 , 85.66994 ],\n",
              "      dtype=float32)"
            ]
          },
          "metadata": {
            "tags": []
          },
          "execution_count": 27
        }
      ]
    }
  ]
}